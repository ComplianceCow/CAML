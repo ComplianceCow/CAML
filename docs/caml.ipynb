{
 "cells": [
  {
   "cell_type": "markdown",
   "metadata": {},
   "source": [
    "# CAML\n",
    "\n",
    "This document will \"be the white paper\" to describe:\n",
    "\n",
    "- An explanation of the YAML format.\n",
    "- A description of the value of a YAML metrics catalog, expanding on some of the ideas presented above.\n",
    "- Use case descriptions and feedback, if available."
   ]
  }
 ],
 "metadata": {
  "language_info": {
   "name": "python"
  },
  "orig_nbformat": 4
 },
 "nbformat": 4,
 "nbformat_minor": 2
}
