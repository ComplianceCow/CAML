{
 "cells": [
  {
   "cell_type": "markdown",
   "metadata": {},
   "source": [
    "# Placeholder\n",
    "\n",
    "This document will address Issue [#24](https://github.com/ContiNube/CAML/issues/24) and will serve the following purposes:\n",
    "\n",
    "- Provide a guide to an auditor who wishes to interpret the results of the metrics to understand the scope of the metric intent and provide boundaries for what is and is not intended to be demonstrated by those metrics\n",
    "- Provide a simple example of dashboards which could be generated from the metrics to provide observability to a product team wishing to track their system compliance"
   ]
  }
 ],
 "metadata": {
  "language_info": {
   "name": "python"
  },
  "orig_nbformat": 4
 },
 "nbformat": 4,
 "nbformat_minor": 2
}
